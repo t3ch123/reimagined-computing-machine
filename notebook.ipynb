{
 "cells": [
  {
   "cell_type": "markdown",
   "source": [
    "# Data loading"
   ],
   "metadata": {
    "collapsed": false
   }
  },
  {
   "cell_type": "code",
   "execution_count": 170,
   "metadata": {
    "collapsed": true
   },
   "outputs": [],
   "source": [
    "import pandas as pd\n",
    "from matplotlib import pyplot as plt"
   ]
  },
  {
   "cell_type": "code",
   "execution_count": 171,
   "outputs": [
    {
     "data": {
      "text/plain": "       Unnamed: 0  VendorID tpep_pickup_datetime tpep_dropoff_datetime  \\\n0               1         1  2016-02-01 00:01:04   2016-02-01 00:04:14   \n1               2         2  2016-02-19 20:50:16   2016-02-19 21:11:04   \n2               3         1  2016-02-19 20:50:37   2016-02-19 21:02:00   \n3               4         1  2016-02-19 20:51:07   2016-02-19 21:06:48   \n4               5         2  2016-02-19 20:52:16   2016-02-19 21:03:09   \n...           ...       ...                  ...                   ...   \n28449       28450         2  2016-02-28 23:43:47   2016-02-28 23:52:44   \n28450       28451         2  2016-02-28 23:51:44   2016-02-29 00:06:32   \n28451       28452         2  2016-02-28 23:57:03   2016-02-29 00:06:35   \n28452       28453         2  2016-02-28 23:58:00   2016-02-29 00:06:14   \n28453       28454         2  2016-02-29 00:03:22   2016-02-29 00:09:26   \n\n       passenger_count  trip_distance  pickup_longitude  pickup_latitude  \\\n0                    1           1.50        -73.976166        40.740108   \n1                    2           3.59        -73.962448        40.763321   \n2                    1           1.70        -73.991402        40.732143   \n3                    1           5.90        -74.014999        40.713940   \n4                    1           2.93        -73.960510        40.761551   \n...                ...            ...               ...              ...   \n28449                1           2.64        -73.983849        40.747086   \n28450                1           8.15        -73.873001        40.774117   \n28451                5           2.46        -73.962769        40.766151   \n28452                1           2.14        -73.999641        40.728298   \n28453                1           1.05        -73.994568        40.728050   \n\n       RatecodeID store_and_fwd_flag  ...  fare_amount  extra  mta_tax  \\\n0               1                  N  ...          6.0    0.5      0.5   \n1               1                  N  ...         15.5    0.5      0.5   \n2               1                  N  ...          9.0    0.5      0.5   \n3               1                  N  ...         19.5    0.5      0.5   \n4               1                  N  ...         11.5    0.5      0.5   \n...           ...                ...  ...          ...    ...      ...   \n28449           1                  N  ...         10.0    0.5      0.5   \n28450           1                  N  ...         24.0    0.5      0.5   \n28451           1                  N  ...         10.0    0.5      0.5   \n28452           1                  N  ...          9.0    0.5      0.5   \n28453           1                  N  ...          6.5    0.5      0.5   \n\n       tip_amount  tolls_amount  improvement_surcharge  total_amount  GoodTip  \\\n0            1.00          0.00                    0.3          8.30    False   \n1            0.00          0.00                    0.3         16.80    False   \n2            1.00          0.00                    0.3         11.30    False   \n3            4.15          0.00                    0.3         24.95     True   \n4            2.56          0.00                    0.3         15.36     True   \n...           ...           ...                    ...           ...      ...   \n28449        2.26          0.00                    0.3         13.56     True   \n28450        6.17          5.54                    0.3         37.01     True   \n28451        1.00          0.00                    0.3         12.30    False   \n28452        0.00          0.00                    0.3         10.30    False   \n28453        1.56          0.00                    0.3          9.36    False   \n\n       Extra   Cash  \n0       True  False  \n1       True   True  \n2       True  False  \n3       True  False  \n4       True  False  \n...      ...    ...  \n28449   True  False  \n28450   True  False  \n28451   True  False  \n28452   True   True  \n28453   True  False  \n\n[28454 rows x 23 columns]",
      "text/html": "<div>\n<style scoped>\n    .dataframe tbody tr th:only-of-type {\n        vertical-align: middle;\n    }\n\n    .dataframe tbody tr th {\n        vertical-align: top;\n    }\n\n    .dataframe thead th {\n        text-align: right;\n    }\n</style>\n<table border=\"1\" class=\"dataframe\">\n  <thead>\n    <tr style=\"text-align: right;\">\n      <th></th>\n      <th>Unnamed: 0</th>\n      <th>VendorID</th>\n      <th>tpep_pickup_datetime</th>\n      <th>tpep_dropoff_datetime</th>\n      <th>passenger_count</th>\n      <th>trip_distance</th>\n      <th>pickup_longitude</th>\n      <th>pickup_latitude</th>\n      <th>RatecodeID</th>\n      <th>store_and_fwd_flag</th>\n      <th>...</th>\n      <th>fare_amount</th>\n      <th>extra</th>\n      <th>mta_tax</th>\n      <th>tip_amount</th>\n      <th>tolls_amount</th>\n      <th>improvement_surcharge</th>\n      <th>total_amount</th>\n      <th>GoodTip</th>\n      <th>Extra</th>\n      <th>Cash</th>\n    </tr>\n  </thead>\n  <tbody>\n    <tr>\n      <th>0</th>\n      <td>1</td>\n      <td>1</td>\n      <td>2016-02-01 00:01:04</td>\n      <td>2016-02-01 00:04:14</td>\n      <td>1</td>\n      <td>1.50</td>\n      <td>-73.976166</td>\n      <td>40.740108</td>\n      <td>1</td>\n      <td>N</td>\n      <td>...</td>\n      <td>6.0</td>\n      <td>0.5</td>\n      <td>0.5</td>\n      <td>1.00</td>\n      <td>0.00</td>\n      <td>0.3</td>\n      <td>8.30</td>\n      <td>False</td>\n      <td>True</td>\n      <td>False</td>\n    </tr>\n    <tr>\n      <th>1</th>\n      <td>2</td>\n      <td>2</td>\n      <td>2016-02-19 20:50:16</td>\n      <td>2016-02-19 21:11:04</td>\n      <td>2</td>\n      <td>3.59</td>\n      <td>-73.962448</td>\n      <td>40.763321</td>\n      <td>1</td>\n      <td>N</td>\n      <td>...</td>\n      <td>15.5</td>\n      <td>0.5</td>\n      <td>0.5</td>\n      <td>0.00</td>\n      <td>0.00</td>\n      <td>0.3</td>\n      <td>16.80</td>\n      <td>False</td>\n      <td>True</td>\n      <td>True</td>\n    </tr>\n    <tr>\n      <th>2</th>\n      <td>3</td>\n      <td>1</td>\n      <td>2016-02-19 20:50:37</td>\n      <td>2016-02-19 21:02:00</td>\n      <td>1</td>\n      <td>1.70</td>\n      <td>-73.991402</td>\n      <td>40.732143</td>\n      <td>1</td>\n      <td>N</td>\n      <td>...</td>\n      <td>9.0</td>\n      <td>0.5</td>\n      <td>0.5</td>\n      <td>1.00</td>\n      <td>0.00</td>\n      <td>0.3</td>\n      <td>11.30</td>\n      <td>False</td>\n      <td>True</td>\n      <td>False</td>\n    </tr>\n    <tr>\n      <th>3</th>\n      <td>4</td>\n      <td>1</td>\n      <td>2016-02-19 20:51:07</td>\n      <td>2016-02-19 21:06:48</td>\n      <td>1</td>\n      <td>5.90</td>\n      <td>-74.014999</td>\n      <td>40.713940</td>\n      <td>1</td>\n      <td>N</td>\n      <td>...</td>\n      <td>19.5</td>\n      <td>0.5</td>\n      <td>0.5</td>\n      <td>4.15</td>\n      <td>0.00</td>\n      <td>0.3</td>\n      <td>24.95</td>\n      <td>True</td>\n      <td>True</td>\n      <td>False</td>\n    </tr>\n    <tr>\n      <th>4</th>\n      <td>5</td>\n      <td>2</td>\n      <td>2016-02-19 20:52:16</td>\n      <td>2016-02-19 21:03:09</td>\n      <td>1</td>\n      <td>2.93</td>\n      <td>-73.960510</td>\n      <td>40.761551</td>\n      <td>1</td>\n      <td>N</td>\n      <td>...</td>\n      <td>11.5</td>\n      <td>0.5</td>\n      <td>0.5</td>\n      <td>2.56</td>\n      <td>0.00</td>\n      <td>0.3</td>\n      <td>15.36</td>\n      <td>True</td>\n      <td>True</td>\n      <td>False</td>\n    </tr>\n    <tr>\n      <th>...</th>\n      <td>...</td>\n      <td>...</td>\n      <td>...</td>\n      <td>...</td>\n      <td>...</td>\n      <td>...</td>\n      <td>...</td>\n      <td>...</td>\n      <td>...</td>\n      <td>...</td>\n      <td>...</td>\n      <td>...</td>\n      <td>...</td>\n      <td>...</td>\n      <td>...</td>\n      <td>...</td>\n      <td>...</td>\n      <td>...</td>\n      <td>...</td>\n      <td>...</td>\n      <td>...</td>\n    </tr>\n    <tr>\n      <th>28449</th>\n      <td>28450</td>\n      <td>2</td>\n      <td>2016-02-28 23:43:47</td>\n      <td>2016-02-28 23:52:44</td>\n      <td>1</td>\n      <td>2.64</td>\n      <td>-73.983849</td>\n      <td>40.747086</td>\n      <td>1</td>\n      <td>N</td>\n      <td>...</td>\n      <td>10.0</td>\n      <td>0.5</td>\n      <td>0.5</td>\n      <td>2.26</td>\n      <td>0.00</td>\n      <td>0.3</td>\n      <td>13.56</td>\n      <td>True</td>\n      <td>True</td>\n      <td>False</td>\n    </tr>\n    <tr>\n      <th>28450</th>\n      <td>28451</td>\n      <td>2</td>\n      <td>2016-02-28 23:51:44</td>\n      <td>2016-02-29 00:06:32</td>\n      <td>1</td>\n      <td>8.15</td>\n      <td>-73.873001</td>\n      <td>40.774117</td>\n      <td>1</td>\n      <td>N</td>\n      <td>...</td>\n      <td>24.0</td>\n      <td>0.5</td>\n      <td>0.5</td>\n      <td>6.17</td>\n      <td>5.54</td>\n      <td>0.3</td>\n      <td>37.01</td>\n      <td>True</td>\n      <td>True</td>\n      <td>False</td>\n    </tr>\n    <tr>\n      <th>28451</th>\n      <td>28452</td>\n      <td>2</td>\n      <td>2016-02-28 23:57:03</td>\n      <td>2016-02-29 00:06:35</td>\n      <td>5</td>\n      <td>2.46</td>\n      <td>-73.962769</td>\n      <td>40.766151</td>\n      <td>1</td>\n      <td>N</td>\n      <td>...</td>\n      <td>10.0</td>\n      <td>0.5</td>\n      <td>0.5</td>\n      <td>1.00</td>\n      <td>0.00</td>\n      <td>0.3</td>\n      <td>12.30</td>\n      <td>False</td>\n      <td>True</td>\n      <td>False</td>\n    </tr>\n    <tr>\n      <th>28452</th>\n      <td>28453</td>\n      <td>2</td>\n      <td>2016-02-28 23:58:00</td>\n      <td>2016-02-29 00:06:14</td>\n      <td>1</td>\n      <td>2.14</td>\n      <td>-73.999641</td>\n      <td>40.728298</td>\n      <td>1</td>\n      <td>N</td>\n      <td>...</td>\n      <td>9.0</td>\n      <td>0.5</td>\n      <td>0.5</td>\n      <td>0.00</td>\n      <td>0.00</td>\n      <td>0.3</td>\n      <td>10.30</td>\n      <td>False</td>\n      <td>True</td>\n      <td>True</td>\n    </tr>\n    <tr>\n      <th>28453</th>\n      <td>28454</td>\n      <td>2</td>\n      <td>2016-02-29 00:03:22</td>\n      <td>2016-02-29 00:09:26</td>\n      <td>1</td>\n      <td>1.05</td>\n      <td>-73.994568</td>\n      <td>40.728050</td>\n      <td>1</td>\n      <td>N</td>\n      <td>...</td>\n      <td>6.5</td>\n      <td>0.5</td>\n      <td>0.5</td>\n      <td>1.56</td>\n      <td>0.00</td>\n      <td>0.3</td>\n      <td>9.36</td>\n      <td>False</td>\n      <td>True</td>\n      <td>False</td>\n    </tr>\n  </tbody>\n</table>\n<p>28454 rows × 23 columns</p>\n</div>"
     },
     "execution_count": 171,
     "metadata": {},
     "output_type": "execute_result"
    }
   ],
   "source": [
    "df_data = pd.read_csv(\"./exam_data.csv\")\n",
    "df_data"
   ],
   "metadata": {
    "collapsed": false
   }
  },
  {
   "cell_type": "code",
   "execution_count": 179,
   "outputs": [
    {
     "data": {
      "text/plain": "           VendorID  passenger_count  trip_distance  pickup_longitude  \\\ncount  28449.000000     28449.000000   28449.000000      28449.000000   \nmean       1.539492         1.665225      13.361013        -72.775710   \nstd        0.498447         1.317839    1772.187864          9.340323   \nmin        1.000000         0.000000       0.000000        -74.465233   \n25%        1.000000         1.000000       0.990000        -73.991821   \n50%        2.000000         1.000000       1.630000        -73.981644   \n75%        2.000000         2.000000       3.050000        -73.966927   \nmax        2.000000         6.000000  298914.200000          0.000000   \n\n       pickup_latitude    RatecodeID  dropoff_longitude  dropoff_latitude  \\\ncount     28449.000000  28449.000000       28449.000000      28449.000000   \nmean         40.090860      1.036170         -72.868534         40.143246   \nstd           5.145453      0.276682           8.973884          4.943774   \nmin           0.000000      1.000000         -74.465332          0.000000   \n25%          40.736607      1.000000         -73.991188         40.734573   \n50%          40.753094      1.000000         -73.979576         40.754093   \n75%          40.767731      1.000000         -73.962227         40.769569   \nmax          41.109280      5.000000           0.000000         41.109280   \n\n       payment_type    fare_amount         extra       mta_tax    tip_amount  \\\ncount  28449.000000   28449.000000  28449.000000  28449.000000  28449.000000   \nmean       1.331189      17.787605      0.330699      0.498055      1.766024   \nstd        0.485719     917.825350      0.455729      0.032651      2.530016   \nmin        1.000000     -52.000000      0.000000     -0.500000      0.000000   \n25%        1.000000       6.500000      0.000000      0.500000      0.000000   \n50%        1.000000       9.000000      0.000000      0.500000      1.320000   \n75%        2.000000      14.000000      0.500000      0.500000      2.320000   \nmax        4.000000  154810.430000     20.550000      1.160000    135.000000   \n\n       tolls_amount  improvement_surcharge   total_amount  \ncount  28449.000000           28449.000000   28449.000000  \nmean       0.288217               0.299863      20.970463  \nstd        1.336380               0.008150     917.967477  \nmin        0.000000              -0.300000     -52.800000  \n25%        0.000000               0.300000       8.300000  \n50%        0.000000               0.300000      11.400000  \n75%        0.000000               0.300000      17.150000  \nmax       21.000000               0.300000  154832.140000  ",
      "text/html": "<div>\n<style scoped>\n    .dataframe tbody tr th:only-of-type {\n        vertical-align: middle;\n    }\n\n    .dataframe tbody tr th {\n        vertical-align: top;\n    }\n\n    .dataframe thead th {\n        text-align: right;\n    }\n</style>\n<table border=\"1\" class=\"dataframe\">\n  <thead>\n    <tr style=\"text-align: right;\">\n      <th></th>\n      <th>VendorID</th>\n      <th>passenger_count</th>\n      <th>trip_distance</th>\n      <th>pickup_longitude</th>\n      <th>pickup_latitude</th>\n      <th>RatecodeID</th>\n      <th>dropoff_longitude</th>\n      <th>dropoff_latitude</th>\n      <th>payment_type</th>\n      <th>fare_amount</th>\n      <th>extra</th>\n      <th>mta_tax</th>\n      <th>tip_amount</th>\n      <th>tolls_amount</th>\n      <th>improvement_surcharge</th>\n      <th>total_amount</th>\n    </tr>\n  </thead>\n  <tbody>\n    <tr>\n      <th>count</th>\n      <td>28449.000000</td>\n      <td>28449.000000</td>\n      <td>28449.000000</td>\n      <td>28449.000000</td>\n      <td>28449.000000</td>\n      <td>28449.000000</td>\n      <td>28449.000000</td>\n      <td>28449.000000</td>\n      <td>28449.000000</td>\n      <td>28449.000000</td>\n      <td>28449.000000</td>\n      <td>28449.000000</td>\n      <td>28449.000000</td>\n      <td>28449.000000</td>\n      <td>28449.000000</td>\n      <td>28449.000000</td>\n    </tr>\n    <tr>\n      <th>mean</th>\n      <td>1.539492</td>\n      <td>1.665225</td>\n      <td>13.361013</td>\n      <td>-72.775710</td>\n      <td>40.090860</td>\n      <td>1.036170</td>\n      <td>-72.868534</td>\n      <td>40.143246</td>\n      <td>1.331189</td>\n      <td>17.787605</td>\n      <td>0.330699</td>\n      <td>0.498055</td>\n      <td>1.766024</td>\n      <td>0.288217</td>\n      <td>0.299863</td>\n      <td>20.970463</td>\n    </tr>\n    <tr>\n      <th>std</th>\n      <td>0.498447</td>\n      <td>1.317839</td>\n      <td>1772.187864</td>\n      <td>9.340323</td>\n      <td>5.145453</td>\n      <td>0.276682</td>\n      <td>8.973884</td>\n      <td>4.943774</td>\n      <td>0.485719</td>\n      <td>917.825350</td>\n      <td>0.455729</td>\n      <td>0.032651</td>\n      <td>2.530016</td>\n      <td>1.336380</td>\n      <td>0.008150</td>\n      <td>917.967477</td>\n    </tr>\n    <tr>\n      <th>min</th>\n      <td>1.000000</td>\n      <td>0.000000</td>\n      <td>0.000000</td>\n      <td>-74.465233</td>\n      <td>0.000000</td>\n      <td>1.000000</td>\n      <td>-74.465332</td>\n      <td>0.000000</td>\n      <td>1.000000</td>\n      <td>-52.000000</td>\n      <td>0.000000</td>\n      <td>-0.500000</td>\n      <td>0.000000</td>\n      <td>0.000000</td>\n      <td>-0.300000</td>\n      <td>-52.800000</td>\n    </tr>\n    <tr>\n      <th>25%</th>\n      <td>1.000000</td>\n      <td>1.000000</td>\n      <td>0.990000</td>\n      <td>-73.991821</td>\n      <td>40.736607</td>\n      <td>1.000000</td>\n      <td>-73.991188</td>\n      <td>40.734573</td>\n      <td>1.000000</td>\n      <td>6.500000</td>\n      <td>0.000000</td>\n      <td>0.500000</td>\n      <td>0.000000</td>\n      <td>0.000000</td>\n      <td>0.300000</td>\n      <td>8.300000</td>\n    </tr>\n    <tr>\n      <th>50%</th>\n      <td>2.000000</td>\n      <td>1.000000</td>\n      <td>1.630000</td>\n      <td>-73.981644</td>\n      <td>40.753094</td>\n      <td>1.000000</td>\n      <td>-73.979576</td>\n      <td>40.754093</td>\n      <td>1.000000</td>\n      <td>9.000000</td>\n      <td>0.000000</td>\n      <td>0.500000</td>\n      <td>1.320000</td>\n      <td>0.000000</td>\n      <td>0.300000</td>\n      <td>11.400000</td>\n    </tr>\n    <tr>\n      <th>75%</th>\n      <td>2.000000</td>\n      <td>2.000000</td>\n      <td>3.050000</td>\n      <td>-73.966927</td>\n      <td>40.767731</td>\n      <td>1.000000</td>\n      <td>-73.962227</td>\n      <td>40.769569</td>\n      <td>2.000000</td>\n      <td>14.000000</td>\n      <td>0.500000</td>\n      <td>0.500000</td>\n      <td>2.320000</td>\n      <td>0.000000</td>\n      <td>0.300000</td>\n      <td>17.150000</td>\n    </tr>\n    <tr>\n      <th>max</th>\n      <td>2.000000</td>\n      <td>6.000000</td>\n      <td>298914.200000</td>\n      <td>0.000000</td>\n      <td>41.109280</td>\n      <td>5.000000</td>\n      <td>0.000000</td>\n      <td>41.109280</td>\n      <td>4.000000</td>\n      <td>154810.430000</td>\n      <td>20.550000</td>\n      <td>1.160000</td>\n      <td>135.000000</td>\n      <td>21.000000</td>\n      <td>0.300000</td>\n      <td>154832.140000</td>\n    </tr>\n  </tbody>\n</table>\n</div>"
     },
     "execution_count": 179,
     "metadata": {},
     "output_type": "execute_result"
    }
   ],
   "source": [
    "df_data.iloc[:, 1:].describe()"
   ],
   "metadata": {
    "collapsed": false
   }
  },
  {
   "cell_type": "markdown",
   "source": [
    "# Data cleansing"
   ],
   "metadata": {
    "collapsed": false
   }
  },
  {
   "cell_type": "markdown",
   "source": [
    "### Check datatypes"
   ],
   "metadata": {
    "collapsed": false
   }
  },
  {
   "cell_type": "code",
   "execution_count": 180,
   "outputs": [
    {
     "data": {
      "text/plain": "Unnamed: 0                 int64\nVendorID                   int64\ntpep_pickup_datetime      object\ntpep_dropoff_datetime     object\npassenger_count            int64\ntrip_distance            float64\npickup_longitude         float64\npickup_latitude          float64\nRatecodeID                 int64\nstore_and_fwd_flag        object\ndropoff_longitude        float64\ndropoff_latitude         float64\npayment_type               int64\nfare_amount              float64\nextra                    float64\nmta_tax                  float64\ntip_amount               float64\ntolls_amount             float64\nimprovement_surcharge    float64\ntotal_amount             float64\nGoodTip                     bool\nExtra                       bool\nCash                        bool\ndtype: object"
     },
     "execution_count": 180,
     "metadata": {},
     "output_type": "execute_result"
    }
   ],
   "source": [
    "df_data.dtypes"
   ],
   "metadata": {
    "collapsed": false
   }
  },
  {
   "cell_type": "markdown",
   "source": [
    "### Check for null values"
   ],
   "metadata": {
    "collapsed": false
   }
  },
  {
   "cell_type": "code",
   "execution_count": 173,
   "outputs": [
    {
     "name": "stdout",
     "output_type": "stream",
     "text": [
      "[]\n"
     ]
    }
   ],
   "source": [
    "print(df_data.columns[df_data.isna().any()].tolist())"
   ],
   "metadata": {
    "collapsed": false
   }
  },
  {
   "cell_type": "markdown",
   "source": [
    "### Remove duplicates"
   ],
   "metadata": {
    "collapsed": false
   }
  },
  {
   "cell_type": "code",
   "execution_count": 174,
   "outputs": [],
   "source": [
    "df_data = df_data.drop_duplicates()"
   ],
   "metadata": {
    "collapsed": false
   }
  },
  {
   "cell_type": "markdown",
   "source": [
    "### Exclude rows with negative price amounts"
   ],
   "metadata": {
    "collapsed": false
   }
  },
  {
   "cell_type": "code",
   "execution_count": 175,
   "outputs": [
    {
     "data": {
      "text/plain": "(28449, 23)"
     },
     "execution_count": 175,
     "metadata": {},
     "output_type": "execute_result"
    }
   ],
   "source": [
    "df_data = df_data.loc[(df_data.tip_amount >= 0) & (df_data.tip_amount >= 0) & (df_data.extra >= 0)]\n",
    "df_data.shape"
   ],
   "metadata": {
    "collapsed": false
   }
  },
  {
   "cell_type": "markdown",
   "source": [
    "# Data exploration"
   ],
   "metadata": {
    "collapsed": false
   }
  },
  {
   "cell_type": "code",
   "execution_count": 209,
   "outputs": [
    {
     "data": {
      "text/plain": "Text(0.5, 0, 'Fare Amount USD')"
     },
     "execution_count": 209,
     "metadata": {},
     "output_type": "execute_result"
    },
    {
     "data": {
      "text/plain": "<Figure size 1400x300 with 1 Axes>",
      "image/png": "[encoded data removed]"
     },
     "metadata": {},
     "output_type": "display_data"
    }
   ],
   "source": [
    "%matplotlib inline\n",
    "\n",
    "df_data[df_data.fare_amount<100].fare_amount.hist(bins=100, figsize=(14, 3))\n",
    "plt.xlabel(\"Fare Amount USD\")"
   ],
   "metadata": {
    "collapsed": false
   }
  },
  {
   "cell_type": "markdown",
   "source": [
    "From this histogram, we can see that most trips in New York have fare amount of less than $20 USD. To be more precise, 75-th percentile of the fare amount is equal to 14."
   ],
   "metadata": {
    "collapsed": false
   }
  },
  {
   "cell_type": "code",
   "execution_count": null,
   "outputs": [],
   "source": [
    "df_data[df_data.total_amount<100].total_amount.hist(bins=100, figsize=(14, 3))\n",
    "plt.xlabel(\"Total Amount USD\")"
   ],
   "metadata": {
    "collapsed": false
   }
  },
  {
   "cell_type": "markdown",
   "source": [
    "From this histogram, we can see that most trips in New York have total price of less than $20 USD. To be more precise, 75-th percentile is equal to 17.15."
   ],
   "metadata": {
    "collapsed": false
   }
  },
  {
   "cell_type": "markdown",
   "source": [
    "Both histograms contain a spike or multiple spikes between 40 and 60 USD. This may indicate some fixed-price routes, such as trips to airports. There are three airports in New York which explains multiple spikes."
   ],
   "metadata": {
    "collapsed": false
   }
  },
  {
   "cell_type": "markdown",
   "source": [
    "## Hypotheses"
   ],
   "metadata": {
    "collapsed": false
   }
  },
  {
   "cell_type": "markdown",
   "source": [
    "Our exploration helped us shape the following hypothesis\n",
    "1. Certain routes have fixed-rate and result in the same total amounts.\n",
    "\n",
    "We can also state these basic intuitions\n",
    "1. Total amount correlates with the length of the trip.\n",
    "2. Total amount depends on the time of day."
   ],
   "metadata": {
    "collapsed": false
   }
  },
  {
   "cell_type": "code",
   "execution_count": null,
   "outputs": [],
   "source": [],
   "metadata": {
    "collapsed": false
   }
  }
 ],
 "metadata": {
  "kernelspec": {
   "display_name": "Python 3",
   "language": "python",
   "name": "python3"
  },
  "language_info": {
   "codemirror_mode": {
    "name": "ipython",
    "version": 2
   },
   "file_extension": ".py",
   "mimetype": "text/x-python",
   "name": "python",
   "nbconvert_exporter": "python",
   "pygments_lexer": "ipython2",
   "version": "2.7.6"
  }
 },
 "nbformat": 4,
 "nbformat_minor": 0
}
